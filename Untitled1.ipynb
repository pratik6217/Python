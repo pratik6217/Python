{
  "nbformat": 4,
  "nbformat_minor": 0,
  "metadata": {
    "colab": {
      "name": "Untitled0.ipynb",
      "provenance": [],
      "collapsed_sections": [],
      "authorship_tag": "ABX9TyN9W+NFXVunhwE9DmJB2daf",
      "include_colab_link": true
    },
    "kernelspec": {
      "name": "python3",
      "display_name": "Python 3"
    }
  },
  "cells": [
    {
      "cell_type": "markdown",
      "metadata": {
        "id": "view-in-github",
        "colab_type": "text"
      },
      "source": [
        "<a href=\"https://colab.research.google.com/github/pratik6217/Python/blob/master/Untitled1.ipynb\" target=\"_parent\"><img src=\"https://colab.research.google.com/assets/colab-badge.svg\" alt=\"Open In Colab\"/></a>"
      ]
    },
    {
      "cell_type": "code",
      "metadata": {
        "id": "xGfYPs7_-uxO",
        "colab_type": "code",
        "colab": {
          "base_uri": "https://localhost:8080/",
          "height": 68
        },
        "outputId": "fac25f0f-eaa5-4969-fe07-d83d5bbd617f"
      },
      "source": [
        "class Pratik:\n",
        "  def __init__(self,name):\n",
        "    self.name=name\n",
        "    print(name)\n",
        "    \n",
        "  def __str__(self):\n",
        "    return(\"Hi my name is {}\".format(self.name))\n",
        "  def print_name(self):\n",
        "    return \"My name is {name}\".format(name=self.name)\n",
        "\n",
        "'''help(Pratik)\n",
        "obj1=Pratik(\"Pratik\")\n",
        "obj2=Pratik(\"Mehak\")\n",
        "obj3=Pratik(\"Ananya\")\n",
        "print(obj1)\n",
        "print(obj2)\n",
        "print(obj3)'''\n",
        "\n",
        "print(obj1.print_name())\n",
        "print(obj2.print_name())\n",
        "print(obj3.print_name())"
      ],
      "execution_count": null,
      "outputs": [
        {
          "output_type": "stream",
          "text": [
            "My name is Pratik\n",
            "My name is Mehak\n",
            "My name is Ananya\n"
          ],
          "name": "stdout"
        }
      ]
    },
    {
      "cell_type": "code",
      "metadata": {
        "id": "yHBa37r4TNUc",
        "colab_type": "code",
        "colab": {}
      },
      "source": [
        ""
      ],
      "execution_count": null,
      "outputs": []
    },
    {
      "cell_type": "code",
      "metadata": {
        "id": "UYdgHM5OjP03",
        "colab_type": "code",
        "colab": {}
      },
      "source": [
        "from google.colab import drive\n",
        "drive.mount('/content/drive')"
      ],
      "execution_count": null,
      "outputs": []
    },
    {
      "cell_type": "code",
      "metadata": {
        "id": "SCmJ6ImYBMqg",
        "colab_type": "code",
        "colab": {
          "base_uri": "https://localhost:8080/",
          "height": 68
        },
        "outputId": "bb2695d4-6ff0-45b7-bd25-913dd828b89d"
      },
      "source": [
        "import datetime\n",
        "date_time=(datetime.datetime.now())\n",
        "print(date_time.time())\n",
        "print(date_time.date())\n",
        "print(date_time.year)"
      ],
      "execution_count": null,
      "outputs": [
        {
          "output_type": "stream",
          "text": [
            "14:52:46.921163\n",
            "2020-09-08\n",
            "2020\n"
          ],
          "name": "stdout"
        }
      ]
    },
    {
      "cell_type": "code",
      "metadata": {
        "id": "dRwenCd1Btkh",
        "colab_type": "code",
        "colab": {
          "base_uri": "https://localhost:8080/",
          "height": 34
        },
        "outputId": "7fa4dba1-380e-49ba-8278-73b5016105a8"
      },
      "source": [
        "import os\n",
        "os.system(\"bash\")"
      ],
      "execution_count": null,
      "outputs": [
        {
          "output_type": "execute_result",
          "data": {
            "text/plain": [
              "0"
            ]
          },
          "metadata": {
            "tags": []
          },
          "execution_count": 31
        }
      ]
    },
    {
      "cell_type": "code",
      "metadata": {
        "id": "gEf_3GteDFyN",
        "colab_type": "code",
        "colab": {
          "base_uri": "https://localhost:8080/",
          "height": 102
        },
        "outputId": "4111d7fd-2cc3-4e86-f8b1-2ce47e531b22"
      },
      "source": [
        "import pandas\n",
        "names=[\"Pratik\",\"Mehak\",\"Ananya\",\"Madhu\"]\n",
        "sur_names=[\"Mishra\",\"Makhijja\",\"Panday\",\"Singh\"]\n",
        "age=[19,19,23,19]\n",
        "gender=[\"Male\",\"Female\",\"Female\",\"Female\"]\n",
        "dict_1={\"Names\":names,\"Surnames\":sur_names,\"Age\":age,\"Gender\":gender,\"Mode\":\"1\"}\n",
        "df=pandas.DataFrame({\"Names\":names,\"Surnames\":sur_names,\"Age\":age,\"Gender\":gender,\"Mode\":1})\n",
        "\n",
        "'''for key, value in dict_1.items():\n",
        "  if \"Pratik\" in value or \"1\" in value:\n",
        "    print(dict_1[key])'''\n",
        "\n",
        "print(df)"
      ],
      "execution_count": null,
      "outputs": [
        {
          "output_type": "stream",
          "text": [
            "    Names  Surnames  Age  Gender  Mode\n",
            "0  Pratik    Mishra   19    Male     1\n",
            "1   Mehak  Makhijja   19  Female     1\n",
            "2  Ananya    Panday   23  Female     1\n",
            "3   Madhu     Singh   19  Female     1\n"
          ],
          "name": "stdout"
        }
      ]
    },
    {
      "cell_type": "code",
      "metadata": {
        "id": "D8x6_vG-G1Z6",
        "colab_type": "code",
        "colab": {
          "base_uri": "https://localhost:8080/",
          "height": 34
        },
        "outputId": "473b0eb1-68b9-4516-e947-4e0a2c8598a1"
      },
      "source": [
        "import os\n",
        "import shutil\n",
        "import psutil\n",
        "\n",
        "def disk_usage(disk):\n",
        "  disk_usage=shutil.disk_usage(disk)\n",
        "  free_percent= disk_usage.free / disk_usage.total *100\n",
        "  return free_percent\n",
        "\n",
        "def memory_usage():\n",
        "  memory = psutil.cpu_percent(1)\n",
        "  return memory\n",
        "\n",
        "if disk_usage(\"/\") < 20 or memory_usage() > 75 :\n",
        "  print(\"Error\")\n",
        "print(\"Your System is good !\")\n",
        "\n",
        "\n"
      ],
      "execution_count": null,
      "outputs": [
        {
          "output_type": "stream",
          "text": [
            "Your System is good !\n"
          ],
          "name": "stdout"
        }
      ]
    },
    {
      "cell_type": "code",
      "metadata": {
        "id": "tRxHLqX0pIYT",
        "colab_type": "code",
        "colab": {
          "base_uri": "https://localhost:8080/",
          "height": 51
        },
        "outputId": "434f7ae4-0025-4a9f-ffda-7854bbf50008"
      },
      "source": [
        "import requests\n",
        "import socket\n",
        "def check_localhost():\n",
        "  localhost = socket.gethostbyname(\"localhost\")\n",
        "  print(localhost)\n",
        "def check_connectivity():\n",
        "  response = requests.get(\"http://www.google.com\")\n",
        "  status = response.status_code\n",
        "  print(status)\n",
        "check_localhost()\n",
        "check_connectivity()\n"
      ],
      "execution_count": null,
      "outputs": [
        {
          "output_type": "stream",
          "text": [
            "127.0.0.1\n",
            "200\n"
          ],
          "name": "stdout"
        }
      ]
    },
    {
      "cell_type": "code",
      "metadata": {
        "id": "wWa4nu264lxk",
        "colab_type": "code",
        "colab": {
          "base_uri": "https://localhost:8080/",
          "height": 34
        },
        "outputId": "c42fc49f-c855-4258-ac1f-0e712b236f90"
      },
      "source": [
        "file = \"  Hi       my name is Pratik    \"\n",
        "print(file.strip())"
      ],
      "execution_count": null,
      "outputs": [
        {
          "output_type": "stream",
          "text": [
            "Hi       my name is Pratik\n"
          ],
          "name": "stdout"
        }
      ]
    },
    {
      "cell_type": "code",
      "metadata": {
        "id": "P3S4TXZ284uu",
        "colab_type": "code",
        "colab": {
          "base_uri": "https://localhost:8080/",
          "height": 221
        },
        "outputId": "4c22968e-e016-482b-ee27-d26c3b399cdd"
      },
      "source": [
        "import os\n",
        "import datetime\n",
        "file = open(\"test.txt\",mode=\"w\")\n",
        "file.write(\"Hi, my name is Pratik and I am a computer science student.\")\n",
        "file.close()\n",
        "file = open(\"test.txt\")\n",
        "print(file.readline())\n",
        "file.close()\n",
        "file = open(\"test.txt\",mode=\"a\")\n",
        "file.write(\"I am 19 years old !\")\n",
        "file.close()\n",
        "file = open(\"test.txt\")\n",
        "print(file.readline())\n",
        "file.close()\n",
        "print(str(os.path.getsize(\"test.txt\"))+\" Bytes.\")\n",
        "print(os.path.getmtime(\"test.txt\"))\n",
        "time_stamp = os.path.getmtime(\"test.txt\")\n",
        "print(datetime.datetime.fromtimestamp(time_stamp).date())\n",
        "print(os.path.isfile(\"test.txt\"))\n",
        "print(os.path.abspath(\"test.txt\"))\n",
        "print(os.path.exists(\"test.txt\"))\n",
        "os.rename(\"test.txt\",\"text.txt\")\n",
        "print(os.path.exists(\"test.txt\"))\n",
        "os.remove(\"text.txt\")\n",
        "print(os.path.exists(\"text.txt\"))\n",
        "os.mkdir(\"new\")\n",
        "os.chdir(\"new\")\n",
        "print(os.getcwd())\n",
        "os.chdir(\"..\")\n",
        "print(os.getcwd())"
      ],
      "execution_count": 75,
      "outputs": [
        {
          "output_type": "stream",
          "text": [
            "Hi, my name is Pratik and I am a computer science student.\n",
            "Hi, my name is Pratik and I am a computer science student.I am 19 years old !\n",
            "77 Bytes.\n",
            "1599670685.930538\n",
            "2020-09-09\n",
            "True\n",
            "/content/test.txt\n",
            "True\n",
            "False\n",
            "False\n",
            "/content/new\n",
            "/content\n"
          ],
          "name": "stdout"
        }
      ]
    },
    {
      "cell_type": "markdown",
      "metadata": {
        "id": "-n8G_fs1EBR_",
        "colab_type": "text"
      },
      "source": [
        "The os.path.getmtime gives the time at which the file was modified latest and it gives the time from january 1 1970 because this is the date which was fixed for time stamps in computers. It is known as unix time and is used to display time for creation, modification of files in computers."
      ]
    },
    {
      "cell_type": "code",
      "metadata": {
        "id": "PFUrYsTn9kKM",
        "colab_type": "code",
        "colab": {
          "base_uri": "https://localhost:8080/",
          "height": 51
        },
        "outputId": "b306042a-66f4-4133-f3db-f7ac4041c0f9"
      },
      "source": [
        "import os\n",
        "def create_python_script(filename):\n",
        "  print(filename)\n",
        "  comments = \"# Start of a new Python program\"\n",
        "  with open(filename,\"w\") as files:\n",
        "    files.write(comments)\n",
        "    filesize = os.path.getsize(filename)\n",
        "  return(filesize)\n",
        "\n",
        "print(create_python_script(\"program.py\"))"
      ],
      "execution_count": null,
      "outputs": [
        {
          "output_type": "stream",
          "text": [
            "program.py\n",
            "0\n"
          ],
          "name": "stdout"
        }
      ]
    },
    {
      "cell_type": "code",
      "metadata": {
        "id": "XKr9y6JnMQfY",
        "colab_type": "code",
        "colab": {
          "base_uri": "https://localhost:8080/",
          "height": 85
        },
        "outputId": "e997e08e-1277-42cd-e1da-3ed0fdd99d02"
      },
      "source": [
        "import os\n",
        "comments = \"# Start of a new Python program\"\n",
        "file = open(\"program.py\",\"w\")\n",
        "file.write(comments)\n",
        "file.close()\n",
        "print(os.getcwd())\n",
        "print(os.listdir())\n",
        "file = open(\"program.py\")\n",
        "print(file.read())\n",
        "file.close()\n",
        "filename = \"program.py\"\n",
        "print(os.path.getsize(filename))\n"
      ],
      "execution_count": null,
      "outputs": [
        {
          "output_type": "stream",
          "text": [
            "/content\n",
            "['.config', 'program.py', 'sample_data']\n",
            "# Start of a new Python program\n",
            "31\n"
          ],
          "name": "stdout"
        }
      ]
    }
  ]
}