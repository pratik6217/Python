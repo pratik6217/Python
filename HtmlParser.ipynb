{
  "nbformat": 4,
  "nbformat_minor": 0,
  "metadata": {
    "colab": {
      "name": "Untitled4.ipynb",
      "provenance": [],
      "authorship_tag": "ABX9TyO0ll3jNSdk8CLYtuNj7eyr",
      "include_colab_link": true
    },
    "kernelspec": {
      "name": "python3",
      "display_name": "Python 3"
    }
  },
  "cells": [
    {
      "cell_type": "markdown",
      "metadata": {
        "id": "view-in-github",
        "colab_type": "text"
      },
      "source": [
        "<a href=\"https://colab.research.google.com/github/pratik6217/Python/blob/master/HtmlParser.ipynb\" target=\"_parent\"><img src=\"https://colab.research.google.com/assets/colab-badge.svg\" alt=\"Open In Colab\"/></a>"
      ]
    },
    {
      "cell_type": "markdown",
      "metadata": {
        "id": "s0JMqql5K4Wh",
        "colab_type": "text"
      },
      "source": [
        "This is a html Parser made in Python:\n",
        "It can detect star,end ,empty tags along with the comments,data and attributes"
      ]
    },
    {
      "cell_type": "code",
      "metadata": {
        "id": "3WZHHTv5FtRO",
        "colab_type": "code",
        "colab": {
          "base_uri": "https://localhost:8080/",
          "height": 187
        },
        "outputId": "111ba649-cc86-45cd-8033-ed44a00b840b"
      },
      "source": [
        "from html.parser import HTMLParser\n",
        "\n",
        "class MyHtmlParser(HTMLParser):\n",
        "  def handle_starttag(self, tag, attrs):\n",
        "    print(\"Start_tag :\",tag)\n",
        "    attr=dict(attrs)\n",
        "    for key, value in attr.items():\n",
        "      print(\"{name} : {attribute}\".format(name=key,attribute=value))\n",
        "  \n",
        "  def handle_endtag(self, tag):\n",
        "    print(\"End_tag :\",tag)\n",
        "  \n",
        "  def handle_startendtag(self, tag, attrs):\n",
        "    print(\"Empty :\",tag)\n",
        "    attr=dict(attrs)\n",
        "    for key, value in attr.items():\n",
        "      print(\"{name} : {attribute}\".format(name=key,attribute=value))\n",
        "\n",
        "  def handle_comment(self, data):\n",
        "    if \"\\n\" not in data:\n",
        "      print(\"Single-line Comment:\")\n",
        "      print(data)\n",
        "    else:\n",
        "      print(\"Multi-line Comment\")\n",
        "      print(data)\n",
        "  \n",
        "  def handle_data(self, data):\n",
        "    if \"\\n\" not in data:\n",
        "      print(\"Data:\")\n",
        "      print(data)\n",
        "    \n",
        "n=int(input())\n",
        "'''for i in range(n):\n",
        "  html_file+=input()'''\n",
        "parser = MyHtmlParser()\n",
        "parser.feed('''<!--[if IE 9]>IE9-specific content\n",
        "<![endif]-->\n",
        "<div> Welcome to HackerRank</div>\n",
        "<!--[if IE 9]>IE9-specific content<![endif]-->''')\n",
        "\n"
      ],
      "execution_count": null,
      "outputs": [
        {
          "output_type": "stream",
          "text": [
            "4\n",
            "Multi-line Comment\n",
            "[if IE 9]>IE9-specific content\n",
            "<![endif]\n",
            "Start_tag : div\n",
            "Data:\n",
            " Welcome to HackerRank\n",
            "End_tag : div\n",
            "Single-line Comment:\n",
            "[if IE 9]>IE9-specific content<![endif]\n"
          ],
          "name": "stdout"
        }
      ]
    }
  ]
}