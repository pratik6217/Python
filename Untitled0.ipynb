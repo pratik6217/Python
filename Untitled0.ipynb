{
  "nbformat": 4,
  "nbformat_minor": 0,
  "metadata": {
    "colab": {
      "name": "Untitled0.ipynb",
      "provenance": [],
      "collapsed_sections": [],
      "toc_visible": true,
      "authorship_tag": "ABX9TyNBHUu//Rwb8KzornWOC7JO",
      "include_colab_link": true
    },
    "kernelspec": {
      "name": "python3",
      "display_name": "Python 3"
    }
  },
  "cells": [
    {
      "cell_type": "markdown",
      "metadata": {
        "id": "view-in-github",
        "colab_type": "text"
      },
      "source": [
        "<a href=\"https://colab.research.google.com/github/pratik6217/Python/blob/master/Untitled0.ipynb\" target=\"_parent\"><img src=\"https://colab.research.google.com/assets/colab-badge.svg\" alt=\"Open In Colab\"/></a>"
      ]
    },
    {
      "cell_type": "code",
      "metadata": {
        "id": "xGfYPs7_-uxO",
        "colab_type": "code",
        "colab": {
          "base_uri": "https://localhost:8080/",
          "height": 68
        },
        "outputId": "fac25f0f-eaa5-4969-fe07-d83d5bbd617f"
      },
      "source": [
        "class Pratik:\n",
        "  def __init__(self,name):\n",
        "    self.name=name\n",
        "    print(name)\n",
        "    \n",
        "  def __str__(self):\n",
        "    return(\"Hi my name is {}\".format(self.name))\n",
        "  def print_name(self):\n",
        "    return \"My name is {name}\".format(name=self.name)\n",
        "\n",
        "'''help(Pratik)\n",
        "obj1=Pratik(\"Pratik\")\n",
        "obj2=Pratik(\"Mehak\")\n",
        "obj3=Pratik(\"Ananya\")\n",
        "print(obj1)\n",
        "print(obj2)\n",
        "print(obj3)'''\n",
        "\n",
        "print(obj1.print_name())\n",
        "print(obj2.print_name())\n",
        "print(obj3.print_name())"
      ],
      "execution_count": 74,
      "outputs": [
        {
          "output_type": "stream",
          "text": [
            "My name is Pratik\n",
            "My name is Mehak\n",
            "My name is Ananya\n"
          ],
          "name": "stdout"
        }
      ]
    },
    {
      "cell_type": "code",
      "metadata": {
        "id": "UYdgHM5OjP03",
        "colab_type": "code",
        "colab": {}
      },
      "source": [
        "from google.colab import drive\n",
        "drive.mount('/content/drive')"
      ],
      "execution_count": null,
      "outputs": []
    },
    {
      "cell_type": "code",
      "metadata": {
        "id": "SCmJ6ImYBMqg",
        "colab_type": "code",
        "colab": {
          "base_uri": "https://localhost:8080/",
          "height": 68
        },
        "outputId": "bb2695d4-6ff0-45b7-bd25-913dd828b89d"
      },
      "source": [
        "import datetime\n",
        "date_time=(datetime.datetime.now())\n",
        "print(date_time.time())\n",
        "print(date_time.date())\n",
        "print(date_time.year)"
      ],
      "execution_count": 27,
      "outputs": [
        {
          "output_type": "stream",
          "text": [
            "14:52:46.921163\n",
            "2020-09-08\n",
            "2020\n"
          ],
          "name": "stdout"
        }
      ]
    },
    {
      "cell_type": "code",
      "metadata": {
        "id": "dRwenCd1Btkh",
        "colab_type": "code",
        "colab": {
          "base_uri": "https://localhost:8080/",
          "height": 34
        },
        "outputId": "7fa4dba1-380e-49ba-8278-73b5016105a8"
      },
      "source": [
        "import os\n",
        "os.system(\"bash\")"
      ],
      "execution_count": 31,
      "outputs": [
        {
          "output_type": "execute_result",
          "data": {
            "text/plain": [
              "0"
            ]
          },
          "metadata": {
            "tags": []
          },
          "execution_count": 31
        }
      ]
    },
    {
      "cell_type": "code",
      "metadata": {
        "id": "gEf_3GteDFyN",
        "colab_type": "code",
        "colab": {
          "base_uri": "https://localhost:8080/",
          "height": 102
        },
        "outputId": "4111d7fd-2cc3-4e86-f8b1-2ce47e531b22"
      },
      "source": [
        "import pandas\n",
        "names=[\"Pratik\",\"Mehak\",\"Ananya\",\"Madhu\"]\n",
        "sur_names=[\"Mishra\",\"Makhijja\",\"Panday\",\"Singh\"]\n",
        "age=[19,19,23,19]\n",
        "gender=[\"Male\",\"Female\",\"Female\",\"Female\"]\n",
        "dict_1={\"Names\":names,\"Surnames\":sur_names,\"Age\":age,\"Gender\":gender,\"Mode\":\"1\"}\n",
        "df=pandas.DataFrame({\"Names\":names,\"Surnames\":sur_names,\"Age\":age,\"Gender\":gender,\"Mode\":1})\n",
        "\n",
        "'''for key, value in dict_1.items():\n",
        "  if \"Pratik\" in value or \"1\" in value:\n",
        "    print(dict_1[key])'''\n",
        "\n",
        "print(df)"
      ],
      "execution_count": 68,
      "outputs": [
        {
          "output_type": "stream",
          "text": [
            "    Names  Surnames  Age  Gender  Mode\n",
            "0  Pratik    Mishra   19    Male     1\n",
            "1   Mehak  Makhijja   19  Female     1\n",
            "2  Ananya    Panday   23  Female     1\n",
            "3   Madhu     Singh   19  Female     1\n"
          ],
          "name": "stdout"
        }
      ]
    },
    {
      "cell_type": "code",
      "metadata": {
        "id": "D8x6_vG-G1Z6",
        "colab_type": "code",
        "colab": {}
      },
      "source": [
        "python --version\n"
      ],
      "execution_count": null,
      "outputs": []
    }
  ]
}